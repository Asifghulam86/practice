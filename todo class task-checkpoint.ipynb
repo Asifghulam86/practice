{
 "cells": [
  {
   "cell_type": "code",
   "execution_count": null,
   "metadata": {},
   "outputs": [
    {
     "name": "stdout",
     "output_type": "stream",
     "text": [
      "enter task you have completed quran\n",
      "daily tasks = ['awake', 'assignment', 'prayer', 'iftar', 'taraveeh', 'uni']\n",
      "Completed task = ['quran']\n"
     ]
    }
   ],
   "source": [
    "dailytask=['awake','assignment','prayer','quran','iftar','taraveeh','uni']\n",
    "completedtask=[]\n",
    "\n",
    "def todo():\n",
    "    if len(dailytask)!=0 and len(dailytask)>0:\n",
    "        doing=input('enter task you have completed ')\n",
    "        if doing in dailytask:\n",
    "            index=dailytask.index(doing)\n",
    "            poplist=dailytask.pop(index)\n",
    "            completedtask.append(doing)\n",
    "            print(\"daily tasks =\",dailytask)\n",
    "            print(\"Completed task =\",completedtask)\n",
    "            todo()\n",
    "        else:\n",
    "            print(\"sorry these task  not exist\")\n",
    "            todo()\n",
    "    else:\n",
    "        print(\"now your list is empty\")\n",
    "        \n",
    "todo()\n"
   ]
  },
  {
   "cell_type": "code",
   "execution_count": null,
   "metadata": {},
   "outputs": [],
   "source": []
  },
  {
   "cell_type": "code",
   "execution_count": null,
   "metadata": {},
   "outputs": [],
   "source": []
  },
  {
   "cell_type": "code",
   "execution_count": null,
   "metadata": {},
   "outputs": [],
   "source": []
  },
  {
   "cell_type": "code",
   "execution_count": null,
   "metadata": {},
   "outputs": [],
   "source": []
  },
  {
   "cell_type": "code",
   "execution_count": null,
   "metadata": {},
   "outputs": [],
   "source": []
  }
 ],
 "metadata": {
  "kernelspec": {
   "display_name": "Python 3",
   "language": "python",
   "name": "python3"
  },
  "language_info": {
   "codemirror_mode": {
    "name": "ipython",
    "version": 3
   },
   "file_extension": ".py",
   "mimetype": "text/x-python",
   "name": "python",
   "nbconvert_exporter": "python",
   "pygments_lexer": "ipython3",
   "version": "3.7.3"
  }
 },
 "nbformat": 4,
 "nbformat_minor": 2
}
