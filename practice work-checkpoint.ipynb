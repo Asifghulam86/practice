{
 "cells": [
  {
   "cell_type": "code",
   "execution_count": null,
   "metadata": {},
   "outputs": [],
   "source": [
    "def natural(start,end):\n",
    "    print(list(range(start,end+1)))\n",
    "natural(1,100)"
   ]
  },
  {
   "cell_type": "code",
   "execution_count": null,
   "metadata": {},
   "outputs": [],
   "source": [
    "boolean=\"true or false\"\n",
    "print(boolean)"
   ]
  },
  {
   "cell_type": "code",
   "execution_count": null,
   "metadata": {},
   "outputs": [],
   "source": [
    "a=2\n",
    "a=a+1\n",
    "print (a)"
   ]
  },
  {
   "cell_type": "code",
   "execution_count": null,
   "metadata": {},
   "outputs": [],
   "source": [
    "a *=2\n",
    "print(a)"
   ]
  },
  {
   "cell_type": "code",
   "execution_count": null,
   "metadata": {},
   "outputs": [],
   "source": [
    "my_numbers=[1,2,3,4,5,6]\n",
    "for number in my_numbers:\n",
    "    mul=number *2\n",
    "    print(mul)\n"
   ]
  },
  {
   "cell_type": "code",
   "execution_count": 6,
   "metadata": {},
   "outputs": [
    {
     "name": "stdout",
     "output_type": "stream",
     "text": [
      "enter first number = 4\n",
      "enter second number = 6\n",
      "it is completely divisible\n"
     ]
    }
   ],
   "source": [
    "number_1= int(input(\"enter first number = \"))\n",
    "number_2= int(input(\"enter second number = \"))\n",
    "if (number_1 % number_2 ):\n",
    "    print(\"it is completely divisible\")\n",
    "else:\n",
    "    print(\"it is not divisible\")"
   ]
  },
  {
   "cell_type": "code",
   "execution_count": 2,
   "metadata": {},
   "outputs": [
    {
     "ename": "SyntaxError",
     "evalue": "invalid syntax (<ipython-input-2-6bc5293277e9>, line 4)",
     "output_type": "error",
     "traceback": [
      "\u001b[1;36m  File \u001b[1;32m\"<ipython-input-2-6bc5293277e9>\"\u001b[1;36m, line \u001b[1;32m4\u001b[0m\n\u001b[1;33m    elif:\u001b[0m\n\u001b[1;37m        ^\u001b[0m\n\u001b[1;31mSyntaxError\u001b[0m\u001b[1;31m:\u001b[0m invalid syntax\n"
     ]
    }
   ],
   "source": [
    "number = int(input(\"enter your number = \"))\n",
    "if number==0:\n",
    "    print(\"number is neither possitive nor negative\")\n",
    "elif:\n",
    "    (number % 2)>=1\n",
    "    print(\"number is even\")\n",
    "        if (number!%2):\n",
    "            print(\"number is negative\")"
   ]
  },
  {
   "cell_type": "code",
   "execution_count": null,
   "metadata": {},
   "outputs": [],
   "source": []
  },
  {
   "cell_type": "code",
   "execution_count": null,
   "metadata": {},
   "outputs": [],
   "source": []
  },
  {
   "cell_type": "code",
   "execution_count": null,
   "metadata": {},
   "outputs": [],
   "source": []
  }
 ],
 "metadata": {
  "kernelspec": {
   "display_name": "Python 3",
   "language": "python",
   "name": "python3"
  },
  "language_info": {
   "codemirror_mode": {
    "name": "ipython",
    "version": 3
   },
   "file_extension": ".py",
   "mimetype": "text/x-python",
   "name": "python",
   "nbconvert_exporter": "python",
   "pygments_lexer": "ipython3",
   "version": "3.7.3"
  }
 },
 "nbformat": 4,
 "nbformat_minor": 2
}
