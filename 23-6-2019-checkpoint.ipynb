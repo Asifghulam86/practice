{
 "cells": [
  {
   "cell_type": "code",
   "execution_count": null,
   "metadata": {},
   "outputs": [],
   "source": [
    "\n",
    "                Dictionary class 23/6/2019"
   ]
  },
  {
   "cell_type": "code",
   "execution_count": 1,
   "metadata": {},
   "outputs": [
    {
     "ename": "SyntaxError",
     "evalue": "invalid syntax (<ipython-input-1-b1260bfa8cfb>, line 1)",
     "output_type": "error",
     "traceback": [
      "\u001b[1;36m  File \u001b[1;32m\"<ipython-input-1-b1260bfa8cfb>\"\u001b[1;36m, line \u001b[1;32m1\u001b[0m\n\u001b[1;33m    it is define as curly bracket\u001b[0m\n\u001b[1;37m                  ^\u001b[0m\n\u001b[1;31mSyntaxError\u001b[0m\u001b[1;31m:\u001b[0m invalid syntax\n"
     ]
    }
   ],
   "source": [
    "it is define as curly bracket\n",
    "syntax for dictionary is"
   ]
  },
  {
   "cell_type": "code",
   "execution_count": 3,
   "metadata": {},
   "outputs": [
    {
     "name": "stdout",
     "output_type": "stream",
     "text": [
      "{'name': 'hamza', 'age': 23, 'cnic': '4230156941397'}\n"
     ]
    }
   ],
   "source": [
    "dict1={\"name\":'hamza','age': 23, 'cnic':'4230156941397'}\n",
    "print (dict1)"
   ]
  },
  {
   "cell_type": "code",
   "execution_count": 4,
   "metadata": {},
   "outputs": [
    {
     "name": "stdout",
     "output_type": "stream",
     "text": [
      "{32: 'abc', 43: 'gfr'}\n"
     ]
    }
   ],
   "source": [
    "dict2 ={32:'abc', 43:'gfr'}\n",
    "print(dict2)"
   ]
  },
  {
   "cell_type": "code",
   "execution_count": 5,
   "metadata": {},
   "outputs": [
    {
     "data": {
      "text/plain": [
       "23"
      ]
     },
     "execution_count": 5,
     "metadata": {},
     "output_type": "execute_result"
    }
   ],
   "source": [
    "#how do i get value from dictionary\n",
    "dict1['age']"
   ]
  },
  {
   "cell_type": "code",
   "execution_count": 6,
   "metadata": {},
   "outputs": [
    {
     "data": {
      "text/plain": [
       "'abc'"
      ]
     },
     "execution_count": 6,
     "metadata": {},
     "output_type": "execute_result"
    }
   ],
   "source": [
    "dict2[32]"
   ]
  },
  {
   "cell_type": "code",
   "execution_count": 7,
   "metadata": {},
   "outputs": [],
   "source": [
    "# if i wanted to insert a value in empty dictionary how?\n"
   ]
  },
  {
   "cell_type": "code",
   "execution_count": 8,
   "metadata": {},
   "outputs": [
    {
     "name": "stdout",
     "output_type": "stream",
     "text": [
      "{'f_name': 'hamza khan', 'age': 33}\n"
     ]
    }
   ],
   "source": [
    "empty_dict={}\n",
    "empty_dict['f_name']='hamza khan'\n",
    "empty_dict['age']=33\n",
    "print(empty_dict)"
   ]
  },
  {
   "cell_type": "code",
   "execution_count": 9,
   "metadata": {},
   "outputs": [],
   "source": [
    "list = (dict1 , dict2)"
   ]
  },
  {
   "cell_type": "code",
   "execution_count": 14,
   "metadata": {},
   "outputs": [
    {
     "name": "stdout",
     "output_type": "stream",
     "text": [
      "{'name': 'mohsin', 'age': 25, 'gender': 'male'}\n"
     ]
    }
   ],
   "source": [
    "my_dict={'name':'mohsin','age':25,'gender':'male'}\n",
    "print(my_dict)"
   ]
  },
  {
   "cell_type": "code",
   "execution_count": 15,
   "metadata": {},
   "outputs": [
    {
     "name": "stdout",
     "output_type": "stream",
     "text": [
      "{'name': 'mohsin', 'gender': 'male'}\n"
     ]
    }
   ],
   "source": [
    "del my_dict['age']\n",
    "print(my_dict)"
   ]
  },
  {
   "cell_type": "code",
   "execution_count": 18,
   "metadata": {},
   "outputs": [
    {
     "name": "stdout",
     "output_type": "stream",
     "text": [
      "mohsin\n",
      "25\n",
      "male\n"
     ]
    }
   ],
   "source": [
    "my_dict={'name':'mohsin','age':25,'gender':'male'}# in this mohsin 25 and 423 are values\n",
    "for info in my_dict.values():\n",
    "    print(info)"
   ]
  },
  {
   "cell_type": "code",
   "execution_count": 19,
   "metadata": {},
   "outputs": [
    {
     "name": "stdout",
     "output_type": "stream",
     "text": [
      "name\n",
      "age\n",
      "gender\n"
     ]
    }
   ],
   "source": [
    "my_dict={'name':'mohsin','age':25,'gender':'male'}# in this name age and gender are keys\n",
    "for info in my_dict.keys():\n",
    "    print(info)"
   ]
  },
  {
   "cell_type": "code",
   "execution_count": 20,
   "metadata": {},
   "outputs": [
    {
     "name": "stdout",
     "output_type": "stream",
     "text": [
      "name\n",
      "age\n",
      "gender\n"
     ]
    }
   ],
   "source": [
    "dict1={\"name\":'hamza','age': 23, 'cnic':'4230156941397'}\n",
    "for info1 in my_dict.keys():\n",
    "    print(info1)\n"
   ]
  },
  {
   "cell_type": "code",
   "execution_count": 22,
   "metadata": {},
   "outputs": [
    {
     "name": "stdout",
     "output_type": "stream",
     "text": [
      "hamza\n",
      "23\n",
      "4230156941397\n"
     ]
    }
   ],
   "source": [
    "dict01={\"name\":'hamza','age': 23, 'cnic':'4230156941397'}\n",
    "for hh in dict01.keys():\n",
    "    print(dict01[hh])"
   ]
  },
  {
   "cell_type": "code",
   "execution_count": 24,
   "metadata": {},
   "outputs": [
    {
     "name": "stdout",
     "output_type": "stream",
     "text": [
      "this is a keys: name this is a value: hamza\n",
      "this is a keys: age this is a value: 23\n",
      "this is a keys: cnic this is a value: 4230156941397\n"
     ]
    }
   ],
   "source": [
    "dict01={\"name\":'hamza','age': 23, 'cnic':'4230156941397'}\n",
    "for key , value in dict01.items():\n",
    "    print(\"this is a keys:\" , key , \"this is a value:\" , value)"
   ]
  },
  {
   "cell_type": "code",
   "execution_count": 31,
   "metadata": {},
   "outputs": [
    {
     "ename": "SyntaxError",
     "evalue": "invalid syntax (<ipython-input-31-dd79c1fad200>, line 5)",
     "output_type": "error",
     "traceback": [
      "\u001b[1;36m  File \u001b[1;32m\"<ipython-input-31-dd79c1fad200>\"\u001b[1;36m, line \u001b[1;32m5\u001b[0m\n\u001b[1;33m    profile=['user_name':'enter your name' , 'user_roll_num':'enter your roll number' , 'user_cnic':'enter your cnic']\u001b[0m\n\u001b[1;37m                        ^\u001b[0m\n\u001b[1;31mSyntaxError\u001b[0m\u001b[1;31m:\u001b[0m invalid syntax\n"
     ]
    }
   ],
   "source": [
    "user_name=input(\"enter your name\")\n",
    "user_roll_num=input(\"enter your roll number\")\n",
    "user_cnic=input(\"enter your cnic\")\n",
    "profile={}\n",
    "profile=['user_name':'enter your name' , 'user_roll_num':'enter your roll number' , 'user_cnic':'enter your cnic']\n"
   ]
  },
  {
   "cell_type": "code",
   "execution_count": 30,
   "metadata": {},
   "outputs": [
    {
     "name": "stdout",
     "output_type": "stream",
     "text": [
      "[{'customer_id': '123'}, {'name': 'asif'}, {'customer_id': '124', 'name': 'ali'}]\n"
     ]
    }
   ],
   "source": [
    "# list of dictionaries\n",
    "#create a list\n",
    "customers=[{\"customer_id\":\"123\"},{\"name\":\"asif\"},{\"customer_id\":\"124\",\"name\":\"ali\"},{\"customer_id\":\"234\",\"name\":\"farhan\"}]\n",
    "del customers[-1]\n",
    "print(customers)\n"
   ]
  },
  {
   "cell_type": "code",
   "execution_count": 37,
   "metadata": {},
   "outputs": [
    {
     "ename": "KeyError",
     "evalue": "'2'",
     "output_type": "error",
     "traceback": [
      "\u001b[1;31m---------------------------------------------------------------------------\u001b[0m",
      "\u001b[1;31mKeyError\u001b[0m                                  Traceback (most recent call last)",
      "\u001b[1;32m<ipython-input-37-9c93f91bb34d>\u001b[0m in \u001b[0;36m<module>\u001b[1;34m\u001b[0m\n\u001b[0;32m      1\u001b[0m \u001b[0mcustomers\u001b[0m\u001b[1;33m=\u001b[0m\u001b[1;33m[\u001b[0m\u001b[1;33m{\u001b[0m\u001b[1;34m\"customer_id\"\u001b[0m\u001b[1;33m:\u001b[0m\u001b[1;34m\"123\"\u001b[0m\u001b[1;33m}\u001b[0m\u001b[1;33m,\u001b[0m\u001b[1;33m{\u001b[0m\u001b[1;34m\"name\"\u001b[0m\u001b[1;33m:\u001b[0m\u001b[1;34m\"asif\"\u001b[0m\u001b[1;33m}\u001b[0m\u001b[1;33m,\u001b[0m\u001b[1;33m{\u001b[0m\u001b[1;34m\"customer_id\"\u001b[0m\u001b[1;33m:\u001b[0m\u001b[1;34m\"124\"\u001b[0m\u001b[1;33m,\u001b[0m\u001b[1;34m\"name\"\u001b[0m\u001b[1;33m:\u001b[0m\u001b[1;34m\"ali\"\u001b[0m\u001b[1;33m}\u001b[0m\u001b[1;33m,\u001b[0m\u001b[1;33m{\u001b[0m\u001b[1;34m\"customer_id\"\u001b[0m\u001b[1;33m:\u001b[0m\u001b[1;34m\"234\"\u001b[0m\u001b[1;33m,\u001b[0m\u001b[1;34m\"name\"\u001b[0m\u001b[1;33m:\u001b[0m\u001b[1;34m\"farhan\"\u001b[0m\u001b[1;33m}\u001b[0m\u001b[1;33m]\u001b[0m\u001b[1;33m\u001b[0m\u001b[1;33m\u001b[0m\u001b[0m\n\u001b[0;32m      2\u001b[0m \u001b[1;32mfor\u001b[0m \u001b[0mi\u001b[0m \u001b[1;32min\u001b[0m \u001b[0mcustomers\u001b[0m\u001b[1;33m:\u001b[0m\u001b[1;33m\u001b[0m\u001b[1;33m\u001b[0m\u001b[0m\n\u001b[1;32m----> 3\u001b[1;33m     \u001b[1;32mif\u001b[0m \u001b[0mi\u001b[0m\u001b[1;33m[\u001b[0m\u001b[1;34m'2'\u001b[0m\u001b[1;33m]\u001b[0m\u001b[1;33m==\u001b[0m\u001b[1;36m234\u001b[0m\u001b[1;33m:\u001b[0m\u001b[1;33m\u001b[0m\u001b[1;33m\u001b[0m\u001b[0m\n\u001b[0m\u001b[0;32m      4\u001b[0m          \u001b[0mprint\u001b[0m\u001b[1;33m(\u001b[0m\u001b[0mi\u001b[0m\u001b[1;33m)\u001b[0m\u001b[1;33m\u001b[0m\u001b[1;33m\u001b[0m\u001b[0m\n",
      "\u001b[1;31mKeyError\u001b[0m: '2'"
     ]
    }
   ],
   "source": [
    "Cfor i in customers:\n",
    "    if i['2']==234:\n",
    "         print(i)\n"
   ]
  },
  {
   "cell_type": "code",
   "execution_count": 55,
   "metadata": {},
   "outputs": [],
   "source": [
    "#assignment:create a blank list and get the user input then it work like a dictionary and append it in the list?\n",
    "#how do acces a value in a dictionary;;;it work with a keys let see\n",
    "lisss={'fight':'game','ssss':'hitman','movies':['sholay','gabar','iron man',{'5':'noodles'}]}\n"
   ]
  },
  {
   "cell_type": "code",
   "execution_count": 56,
   "metadata": {},
   "outputs": [
    {
     "data": {
      "text/plain": [
       "'noodles'"
      ]
     },
     "execution_count": 56,
     "metadata": {},
     "output_type": "execute_result"
    }
   ],
   "source": [
    "lisss['movies'][3]['5']"
   ]
  },
  {
   "cell_type": "code",
   "execution_count": 58,
   "metadata": {},
   "outputs": [
    {
     "ename": "SyntaxError",
     "evalue": "invalid syntax (<ipython-input-58-faf397f8b60f>, line 4)",
     "output_type": "error",
     "traceback": [
      "\u001b[1;36m  File \u001b[1;32m\"<ipython-input-58-faf397f8b60f>\"\u001b[1;36m, line \u001b[1;32m4\u001b[0m\n\u001b[1;33m    how to make a function in python\u001b[0m\n\u001b[1;37m         ^\u001b[0m\n\u001b[1;31mSyntaxError\u001b[0m\u001b[1;31m:\u001b[0m invalid syntax\n"
     ]
    }
   ],
   "source": [
    "# function\n",
    "#reusable code\n",
    "#chunk of code\n",
    "how to make a function in python\n",
    "use def then the name of function and round bracket and colon\n",
    "in function there is a concept of paramenter.we find parameter in the function body\n",
    "def add():# def function\n",
    "    a=2\n",
    "    b=3\n",
    "    c=a+b\n",
    "    print(c)\n",
    "add()# call in function\n",
    "    "
   ]
  },
  {
   "cell_type": "code",
   "execution_count": 59,
   "metadata": {},
   "outputs": [
    {
     "name": "stdout",
     "output_type": "stream",
     "text": [
      "5\n"
     ]
    }
   ],
   "source": [
    "def add():#this  stage is parameter\n",
    "    a=2\n",
    "    b=3\n",
    "    c=a+b\n",
    "    print(c)\n",
    "add()#this stage is argument\n"
   ]
  },
  {
   "cell_type": "code",
   "execution_count": 61,
   "metadata": {},
   "outputs": [
    {
     "name": "stdout",
     "output_type": "stream",
     "text": [
      "heelo\n"
     ]
    }
   ],
   "source": [
    "def func(x):# at there \n",
    "    print(x)\n",
    "func('heelo')"
   ]
  },
  {
   "cell_type": "code",
   "execution_count": 62,
   "metadata": {},
   "outputs": [
    {
     "name": "stdout",
     "output_type": "stream",
     "text": [
      "5\n"
     ]
    }
   ],
   "source": [
    "def add(x,y):#x and y are the parameter\n",
    "    print(x+y)\n",
    "add(2,3)#it is necessary to enter the argument with the member of parameter"
   ]
  },
  {
   "cell_type": "code",
   "execution_count": 1,
   "metadata": {},
   "outputs": [
    {
     "name": "stdout",
     "output_type": "stream",
     "text": [
      "enter first number3\n",
      "enter second number4\n",
      "enter operator*\n",
      "12\n"
     ]
    }
   ],
   "source": [
    "def calculator(x,y,operator):\n",
    "    if operator=='+':\n",
    "        print(x+y)\n",
    "    elif operator=='-':\n",
    "        print(x-y)\n",
    "    elif operator=='*':\n",
    "        print(x*y)\n",
    "    elif operator=='/':\n",
    "        print(x/y)\n",
    "    else:\n",
    "        print(\"invalid error\")\n",
    "var=int(input(\"enter first number\"))\n",
    "var2=int(input(\"enter second number\"))\n",
    "operator=input(\"enter operator\")\n",
    "calculator(var,var2,operator)"
   ]
  },
  {
   "cell_type": "code",
   "execution_count": null,
   "metadata": {},
   "outputs": [],
   "source": [
    "def userandfather(username, fathername):\n",
    "    print(\"my name is\" + username)\n",
    "    print(\"my father name is\" + fathername)\n",
    "userandfather('asif','ghulam')"
   ]
  },
  {
   "cell_type": "code",
   "execution_count": 68,
   "metadata": {},
   "outputs": [
    {
     "name": "stdout",
     "output_type": "stream",
     "text": [
      "my name isghulam\n",
      "my father name isasif\n"
     ]
    }
   ],
   "source": [
    "userandfather(fathername='asif',username='ghulam')"
   ]
  },
  {
   "cell_type": "code",
   "execution_count": null,
   "metadata": {},
   "outputs": [],
   "source": [
    "#make a function of full name(first name last name middle) by default it create a error if some one have two name"
   ]
  }
 ],
 "metadata": {
  "kernelspec": {
   "display_name": "Python 3",
   "language": "python",
   "name": "python3"
  },
  "language_info": {
   "codemirror_mode": {
    "name": "ipython",
    "version": 3
   },
   "file_extension": ".py",
   "mimetype": "text/x-python",
   "name": "python",
   "nbconvert_exporter": "python",
   "pygments_lexer": "ipython3",
   "version": "3.7.3"
  }
 },
 "nbformat": 4,
 "nbformat_minor": 2
}
